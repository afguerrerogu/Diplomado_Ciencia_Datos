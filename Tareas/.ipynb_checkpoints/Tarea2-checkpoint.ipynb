{
 "cells": [
  {
   "cell_type": "markdown",
   "id": "6100fe60-f68f-43a7-b5b5-98253125d02e",
   "metadata": {
    "tags": []
   },
   "source": [
    "# Desviación Estandar <img style=\"float: right;\" src=\"logo.jpeg\" width=\"85\" height=\"70\">\n"
   ]
  },
  {
   "cell_type": "markdown",
   "id": "ded9d3ad-d691-4b09-b8bb-27e70855cab9",
   "metadata": {},
   "source": [
    "## Autor\n",
    "\n",
    "<div style=\"display: flex; justify-content: center;\">\n",
    "    <table style=\"width: 100%;\">\n",
    "        <tr>\n",
    "            <td style=\"width: 30%;\"><img src=\"foto.jpeg\" width=\"250\" height=\"100\"></td>\n",
    "            <td style=\"width: 70%;\" colspan=\"2\">\n",
    "                <p style=\"text-align: justify;\"><b>Andres Felipe Guerrero Guio</b><br>\n",
    "                Universidad Nacional de Colombia, <i>Facultad de Ciencias</i>, Departamento de Física. <br>\n",
    "                Observatorio Astronomico Nacional, <i>Grupo de Astrofísica Solar (GOSA), Grupo de variabilidad estelar (VarYun).</i><br>\n",
    "                Soy estudiante de último semestre de física y formo parte de dos grupos de investigación en el Observatorio Astronómico Nacional. He tenido la oportunidad de utilizar modelos de machine learning para resolver sistemas físicos. Mi formación sólida en matemáticas y estadística me permite aplicar enfoques cuantitativos en mi investigación y análisis de datos. He participado en la redacción de artículos científicos y he sido monitor en diversos cursos. Soy una persona dedicada, apasionada por la investigación en astrofísica y siempre en búsqueda de nuevas formas de mejorar mis habilidades y conocimientos.</p>\n",
    "            </td>\n",
    "        </tr>\n",
    "    </table>\n",
    "</div>"
   ]
  },
  {
   "cell_type": "markdown",
   "id": "e991a751-01e0-48dd-8b4d-ec2bb85f0dbe",
   "metadata": {},
   "source": [
    "## Concepto\n",
    "\n",
    "La desviación estándar es una medida de extensión o variabilidad en la estadística descriptiva. Se utiliza para calcular la variación o dispersión en la que los puntos de datos individuales difieren de la media. Una desviación baja indica que los puntos de datos están muy cerca de la media, mientras que una desviación alta muestra que los datos están dispersos en un rango mayor de valores. La desviación estándar es una de las principales medidas estadísticas que intervienen en el cálculo de la muestra de una investigación, y también es una medida de riesgo que utilizan los analistas, los gestores de carteras y los asesores.\n",
    "\n",
    "La Desviacion estandar (S) se calcula de la forma:\n",
    "\n",
    "$$\n",
    "S=\\sqrt{\\frac{\\sum(X-\\bar{X})^2}{N}}\n",
    "$$\n",
    "Donde X es Cada valor en la muestra, $\\bar{X}$ representa Media de todos los datos y N es Número de datos.\n",
    "\n",
    "La desviación estándar también puede servir como una medida de incertidumbre. En física, por ejemplo, la desviación estándar de un conjunto de mediciones puede indicar la precisión de los resultados obtenidos"
   ]
  },
  {
   "cell_type": "markdown",
   "id": "5ebfe0a2-8c36-4fad-8c42-1e328e688696",
   "metadata": {},
   "source": [
    "## Ejemplo\n",
    "\n",
    "supongamos un conjunto de N = 10 datos aleatorios entre 0 y 1"
   ]
  },
  {
   "cell_type": "code",
   "execution_count": 5,
   "id": "dd8c8e69-ffd4-405b-b3da-19d8019d422b",
   "metadata": {},
   "outputs": [
    {
     "data": {
      "text/plain": [
       "[0, 4, 6, 7, 3, 4, 7, 9, 6, 6]"
      ]
     },
     "execution_count": 5,
     "metadata": {},
     "output_type": "execute_result"
    }
   ],
   "source": [
    "import random as rd\n",
    "\n",
    "N = 10\n",
    "datos = [rd.randint(0,10) for i in range(N) ]\n",
    "datos"
   ]
  },
  {
   "cell_type": "markdown",
   "id": "59b7c964-8cf8-4851-b5b7-ab5d0a5c13c5",
   "metadata": {},
   "source": [
    "Ahora queremos calcular su media $\\bar{X}$, esta esta dada por la ecuación: \n",
    "\n",
    "$$\n",
    "\\bar{x}=\\frac{\\sum x_i}{N},\n",
    "$$\n",
    "es decir, debemos sumar los datos y dividirlos ente N"
   ]
  },
  {
   "cell_type": "code",
   "execution_count": 10,
   "id": "fa5eea56-bb75-48f0-a558-33d92cb02d46",
   "metadata": {},
   "outputs": [
    {
     "data": {
      "text/plain": [
       "5.2"
      ]
     },
     "execution_count": 10,
     "metadata": {},
     "output_type": "execute_result"
    }
   ],
   "source": [
    "suma = 0\n",
    "for i in datos:\n",
    "    suma +=i\n",
    "media = suma/N\n",
    "media"
   ]
  },
  {
   "cell_type": "markdown",
   "id": "44dc77b4-c11d-4dca-b2d8-1345717218be",
   "metadata": {},
   "source": [
    "De esta forma ya tenemos todo lo que se requiere para calcular la desviacion estandar S de los datos, esto es:"
   ]
  },
  {
   "cell_type": "code",
   "execution_count": 20,
   "id": "763ad693-e169-4a31-a0f1-32fc7cc25162",
   "metadata": {},
   "outputs": [],
   "source": [
    "suma_desv = 0\n",
    "for i in datos:\n",
    "    suma_desv += (i-media)**2\n",
    "S = (suma_desv/N)**(1/2)"
   ]
  },
  {
   "cell_type": "markdown",
   "id": "fe95dd0e-e7d1-4223-b64a-46eacebec4ee",
   "metadata": {},
   "source": [
    "La desviacion estandar de los datos es:"
   ]
  },
  {
   "cell_type": "code",
   "execution_count": 22,
   "id": "15050aff-b575-4194-9b27-7368318c633f",
   "metadata": {},
   "outputs": [
    {
     "data": {
      "text/plain": [
       "2.4000000000000004"
      ]
     },
     "execution_count": 22,
     "metadata": {},
     "output_type": "execute_result"
    }
   ],
   "source": [
    "S"
   ]
  },
  {
   "cell_type": "markdown",
   "id": "3c9dc9e3-a624-46b4-9569-8470d5580012",
   "metadata": {},
   "source": [
    "Si el conjunto de datos que estamos estudiando corresponde a alguna medida en física, el valor sería reportado de la siguiente forma:"
   ]
  },
  {
   "cell_type": "code",
   "execution_count": 29,
   "id": "ec78f5ae-2faf-40be-a6cc-dd748d1b44e4",
   "metadata": {},
   "outputs": [
    {
     "name": "stdout",
     "output_type": "stream",
     "text": [
      "medida = (5.2 +-2.4) Unidades\n"
     ]
    }
   ],
   "source": [
    "print(r\"medida = ({} +-{}) Unidades\".format(media,round(S,1)))"
   ]
  },
  {
   "cell_type": "markdown",
   "id": "1fff839a-3042-4072-bd55-ad6ad9e4d3e3",
   "metadata": {},
   "source": [
    "Donde la $\\bar{X}$ es el valor numérico obtenido y S es la incertidumbre asociada a la medida. La incertidumbre representa la incerteza o error en la medición y se expresa generalmente en el mismo sistema de unidades que el valor medido. Como podemos ver, la desviacion estandar es alta comparada con la media de los datos, esto nos indica que los datos son muy dispersos."
   ]
  },
  {
   "cell_type": "markdown",
   "id": "c2adc95d-d27f-47a9-b88b-9cb82ad629fc",
   "metadata": {},
   "source": [
    "## Librerias\n",
    "\n",
    "En el ejemplo anterior, intentamos reducir la dependencia de librerías; sin embargo, estas pueden simplificar nuestra vida enormemente. Específicamente, con la librería NumPy, el código se reduce a unas pocas líneas. Por ejemplo, podemos calcular la media de la siguiente forma:"
   ]
  },
  {
   "cell_type": "code",
   "execution_count": 30,
   "id": "5019c5a1-0a85-40ef-b7ff-59574db87616",
   "metadata": {},
   "outputs": [
    {
     "data": {
      "text/plain": [
       "5.2"
      ]
     },
     "execution_count": 30,
     "metadata": {},
     "output_type": "execute_result"
    }
   ],
   "source": [
    "import numpy as np\n",
    "media_np = np.mean(datos)\n",
    "media_np"
   ]
  },
  {
   "cell_type": "markdown",
   "id": "b4e935cb-d6d3-4481-ad10-74dafc83cd8e",
   "metadata": {},
   "source": [
    "Observamos que obtenemos el mismo resultado que el cálculo anterior sin necesidad de utilizar bucles. Además, con la librería NumPy, podemos calcular directamente la desviación estándar sin tener que calcular previamente la media de los datos"
   ]
  },
  {
   "cell_type": "code",
   "execution_count": 32,
   "id": "803677dc-54ce-45ec-9c93-35843c1affac",
   "metadata": {},
   "outputs": [
    {
     "data": {
      "text/plain": [
       "2.4"
      ]
     },
     "execution_count": 32,
     "metadata": {},
     "output_type": "execute_result"
    }
   ],
   "source": [
    "S_np = np.std(datos)\n",
    "S_np"
   ]
  },
  {
   "cell_type": "markdown",
   "id": "98bb8b64-713d-4f21-afe5-6d6b0edac89c",
   "metadata": {},
   "source": [
    "Como podemos ver, el resultado es el mismo y utilizamos unicamente una linea de codigo."
   ]
  },
  {
   "cell_type": "markdown",
   "id": "dc60c14c-be68-4ef1-b786-4cb059ab21e5",
   "metadata": {},
   "source": [
    "## Bibliografia\n",
    "<ol>\n",
    "    <p>Questiopro (vista <b>2023</b>) <i>Desviación estándar: Qué es, usos y cómo obtenerla.</i> Disponible en <a href=\"https://www.questionpro.com/blog/es/desviacion-estandar/\">https://www.questionpro.com/blog/es/desviacion-estandar/</a></p>\n",
    "    <p>Wikipedia (vista <b>2023</b>) <i>Desviación típica.</i> Disponible en <a href=\"https://es.wikipedia.org/wiki/Desviaci%C3%B3n_t%C3%ADpica\">https://es.wikipedia.org/wiki/Desviaci%C3%B3n_t%C3%ADpica</a></p>\n",
    "    <p>Khan academic (vista <b>2023</b>) <i>Calcular la desviación estándar paso a paso.</i> Disponible en <a href=\"https://es.khanacademy.org/math/probability/data-distributions-a1/summarizing-spread-distributions/a/calculating-standard-deviation-step-by-step\">https://es.khanacademy.org/math/probability/data-distributions-a1/summarizing-spread-distributions/a/calculating-standard-deviation-step-by-step</a></p>\n",
    "</ol>"
   ]
  }
 ],
 "metadata": {
  "kernelspec": {
   "display_name": "Python 3 (ipykernel)",
   "language": "python",
   "name": "python3"
  },
  "language_info": {
   "codemirror_mode": {
    "name": "ipython",
    "version": 3
   },
   "file_extension": ".py",
   "mimetype": "text/x-python",
   "name": "python",
   "nbconvert_exporter": "python",
   "pygments_lexer": "ipython3",
   "version": "3.7.16"
  }
 },
 "nbformat": 4,
 "nbformat_minor": 5
}
