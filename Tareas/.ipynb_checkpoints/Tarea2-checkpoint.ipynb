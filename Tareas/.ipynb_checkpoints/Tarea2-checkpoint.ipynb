{
 "cells": [
  {
   "cell_type": "markdown",
   "id": "6100fe60-f68f-43a7-b5b5-98253125d02e",
   "metadata": {
    "tags": []
   },
   "source": [
    "# Desviación Estandar "
   ]
  },
  {
   "cell_type": "markdown",
   "id": "ded9d3ad-d691-4b09-b8bb-27e70855cab9",
   "metadata": {},
   "source": [
    "## Autor\n",
    "<table>\n",
    "    <tr>\n",
    "        <td><img src=\"foto.jpeg\" width=\"250\" height=\"100\"></td>\n",
    "        <td style=\"width:300px\">\n",
    "            <p style=\"text-align:justify\"><b>Andres Felipe Guerrero Guio</b><br>\n",
    "            Universidad Nacional de Colombia, <i>Facultad de Ciencias</i>, Departamento de Física. <br>\n",
    "            Observatorio Astronomico Nacional, <i>Grupo de Astrofísica Solar (GOSA), Grupo de variabilidad estelar (VarYun)</i><br>\n",
    "            Soy estudiante de último semestre de física y formo parte de dos grupos de investigación en el Observatorio Astronómico Nacional. He tenido la oportunidad de utilizar modelos de machine learning para resolver sistemas físicos. Mi formación sólida en matemáticas y estadística me permite aplicar enfoques cuantitativos en mi investigación y análisis de datos. He participado en la redacción de artículos científicos y he sido monitor en diversos cursos. Soy una persona dedicada, apasionada por la investigación en astrofísica y siempre en búsqueda de nuevas formas de mejorar mis habilidades y conocimientos.</p>\n",
    "        </td>\n",
    "    </tr>\n",
    "</table>\n"
   ]
  },
  {
   "cell_type": "code",
   "execution_count": 1,
   "id": "3cde304d-afdc-46d1-83bd-18583a552d32",
   "metadata": {},
   "outputs": [
    {
     "data": {
      "text/plain": [
       "8"
      ]
     },
     "execution_count": 1,
     "metadata": {},
     "output_type": "execute_result"
    }
   ],
   "source": [
    "s=8"
   ]
  },
  {
   "cell_type": "code",
   "execution_count": 7,
   "id": "dd8c8e69-ffd4-405b-b3da-19d8019d422b",
   "metadata": {},
   "outputs": [],
   "source": [
    "import pandas as pd\n",
    "\n",
    "df = pd.DataFrame()"
   ]
  },
  {
   "cell_type": "code",
   "execution_count": 4,
   "id": "1e134ef7-ecad-4095-8c97-aab8e3d44925",
   "metadata": {},
   "outputs": [
    {
     "data": {
      "text/html": [
       "<div>\n",
       "<style scoped>\n",
       "    .dataframe tbody tr th:only-of-type {\n",
       "        vertical-align: middle;\n",
       "    }\n",
       "\n",
       "    .dataframe tbody tr th {\n",
       "        vertical-align: top;\n",
       "    }\n",
       "\n",
       "    .dataframe thead th {\n",
       "        text-align: right;\n",
       "    }\n",
       "</style>\n",
       "<table border=\"1\" class=\"dataframe\">\n",
       "  <thead>\n",
       "    <tr style=\"text-align: right;\">\n",
       "      <th></th>\n",
       "    </tr>\n",
       "  </thead>\n",
       "  <tbody>\n",
       "  </tbody>\n",
       "</table>\n",
       "</div>"
      ],
      "text/plain": [
       "Empty DataFrame\n",
       "Columns: []\n",
       "Index: []"
      ]
     },
     "execution_count": 4,
     "metadata": {},
     "output_type": "execute_result"
    }
   ],
   "source": [
    "df"
   ]
  },
  {
   "cell_type": "code",
   "execution_count": null,
   "id": "fa5eea56-bb75-48f0-a558-33d92cb02d46",
   "metadata": {},
   "outputs": [],
   "source": []
  }
 ],
 "metadata": {
  "kernelspec": {
   "display_name": "Python 3 (ipykernel)",
   "language": "python",
   "name": "python3"
  },
  "language_info": {
   "codemirror_mode": {
    "name": "ipython",
    "version": 3
   },
   "file_extension": ".py",
   "mimetype": "text/x-python",
   "name": "python",
   "nbconvert_exporter": "python",
   "pygments_lexer": "ipython3",
   "version": "3.11.4"
  }
 },
 "nbformat": 4,
 "nbformat_minor": 5
}
